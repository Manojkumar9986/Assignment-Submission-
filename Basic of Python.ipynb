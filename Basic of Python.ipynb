{
 "cells": [
  {
   "cell_type": "markdown",
   "id": "357cfc23-c4cc-4174-ba33-47d9b89e1a99",
   "metadata": {},
   "source": [
    "# PYTHON PROGRAMMING ASSIGNMENT\n",
    " "
   ]
  },
  {
   "cell_type": "markdown",
   "id": "89011c5a-203e-4d9f-b814-ae08163c2ff4",
   "metadata": {},
   "source": [
    "#### Coding Exercises"
   ]
  },
  {
   "cell_type": "markdown",
   "id": "02eeb9b9-c9d7-4b84-ac84-8e75d2b4ee15",
   "metadata": {},
   "source": [
    "## Exercise 1 :Prime Numbers"
   ]
  },
  {
   "cell_type": "markdown",
   "id": "17041d38-2ecd-4962-8bd2-76dfab80ebfc",
   "metadata": {},
   "source": [
    "##### Write a Python program that checks whether a given number is prime or not. A primenumber isa natural number greater than 1 that has no positive divisors other than 1 and itself."
   ]
  },
  {
   "cell_type": "code",
   "execution_count": 5,
   "id": "c7ad32bd-e43e-4a57-910e-1402b9c45da8",
   "metadata": {},
   "outputs": [
    {
     "name": "stdin",
     "output_type": "stream",
     "text": [
      "Enter a number:  2\n"
     ]
    },
    {
     "name": "stdout",
     "output_type": "stream",
     "text": [
      "2 is a prime number.\n"
     ]
    }
   ],
   "source": [
    " num = int(input(\"Enter a number: \"))\n",
    "if num > 1:\n",
    "    for i in range(2, num):\n",
    "        if num % i == 0:\n",
    "            print(f\"{num} is not a prime number.\")\n",
    "            break\n",
    "    else:\n",
    "        print(f\"{num} is a prime number.\")\n",
    "else:\n",
    "    print(f\"{num} is not a prime number.\")"
   ]
  },
  {
   "cell_type": "markdown",
   "id": "21fe504f-c3e0-439a-90f2-7c9221f1f708",
   "metadata": {},
   "source": [
    "## Exercise 2 : Product of Random Numbers¶"
   ]
  },
  {
   "cell_type": "markdown",
   "id": "b12ad6a6-2712-4ae2-a74e-664474d81812",
   "metadata": {},
   "source": [
    "##### Develop a Python program that generates two random numbers and asks the user to enter the product of these numbers. The program should then check if the user's answer is correct and display an appropriate message."
   ]
  },
  {
   "cell_type": "code",
   "execution_count": 9,
   "id": "b8ba1a28-a758-45df-9a24-81227819fa3b",
   "metadata": {},
   "outputs": [
    {
     "name": "stdin",
     "output_type": "stream",
     "text": [
      "Enter the first number:  2\n",
      "Enter the second number:  5\n",
      "Enter the product of the two numbers:  10\n"
     ]
    },
    {
     "name": "stdout",
     "output_type": "stream",
     "text": [
      "The product is correct.\n"
     ]
    }
   ],
   "source": [
    "num1 = int(input(\"Enter the first number: \"))\n",
    "num2 = int(input(\"Enter the second number: \"))\n",
    "user_product = int(input(\"Enter the product of the two numbers: \"))\n",
    "correct_product = num1 * num2\n",
    "if user_product == correct_product:\n",
    "    print(\"The product is correct.\")\n",
    "else:\n",
    "    print(\"The product is not correct.\")"
   ]
  },
  {
   "cell_type": "markdown",
   "id": "96e3912f-cb96-4a38-9202-ea2bde556e99",
   "metadata": {},
   "source": [
    "## Exercise 3: Squares of Even/Odd Numbers"
   ]
  },
  {
   "cell_type": "markdown",
   "id": "00dc0920-0a41-4d5b-a5f0-e31b2c4bf9df",
   "metadata": {},
   "source": [
    "##### Create a Python script that prints the squares of all even or odd numbers within the range of 100 to 200.Choose either even or odd numbers and document your choice in the code."
   ]
  },
  {
   "cell_type": "code",
   "execution_count": 13,
   "id": "0dcc1958-4777-4ce1-b7b3-a044a876fd87",
   "metadata": {},
   "outputs": [
    {
     "name": "stdout",
     "output_type": "stream",
     "text": [
      "The square of 100 is 10000\n",
      "The square of 102 is 10404\n",
      "The square of 104 is 10816\n",
      "The square of 106 is 11236\n",
      "The square of 108 is 11664\n",
      "The square of 110 is 12100\n",
      "The square of 112 is 12544\n",
      "The square of 114 is 12996\n",
      "The square of 116 is 13456\n",
      "The square of 118 is 13924\n",
      "The square of 120 is 14400\n",
      "The square of 122 is 14884\n",
      "The square of 124 is 15376\n",
      "The square of 126 is 15876\n",
      "The square of 128 is 16384\n",
      "The square of 130 is 16900\n",
      "The square of 132 is 17424\n",
      "The square of 134 is 17956\n",
      "The square of 136 is 18496\n",
      "The square of 138 is 19044\n",
      "The square of 140 is 19600\n",
      "The square of 142 is 20164\n",
      "The square of 144 is 20736\n",
      "The square of 146 is 21316\n",
      "The square of 148 is 21904\n",
      "The square of 150 is 22500\n",
      "The square of 152 is 23104\n",
      "The square of 154 is 23716\n",
      "The square of 156 is 24336\n",
      "The square of 158 is 24964\n",
      "The square of 160 is 25600\n",
      "The square of 162 is 26244\n",
      "The square of 164 is 26896\n",
      "The square of 166 is 27556\n",
      "The square of 168 is 28224\n",
      "The square of 170 is 28900\n",
      "The square of 172 is 29584\n",
      "The square of 174 is 30276\n",
      "The square of 176 is 30976\n",
      "The square of 178 is 31684\n",
      "The square of 180 is 32400\n",
      "The square of 182 is 33124\n",
      "The square of 184 is 33856\n",
      "The square of 186 is 34596\n",
      "The square of 188 is 35344\n",
      "The square of 190 is 36100\n",
      "The square of 192 is 36864\n",
      "The square of 194 is 37636\n",
      "The square of 196 is 38416\n",
      "The square of 198 is 39204\n"
     ]
    }
   ],
   "source": [
    "for number in range(100, 200):\n",
    "      if number % 2 == 0:\n",
    "          square = number ** 2\n",
    "          print(f\"The square of {number} is {square}\")\n",
    "        "
   ]
  },
  {
   "cell_type": "markdown",
   "id": "9037fc92-7cad-42a7-bd6b-6ff61198e557",
   "metadata": {},
   "source": [
    "##  Exercise 4: Word counter\t "
   ]
  },
  {
   "cell_type": "markdown",
   "id": "beeb1f2f-2590-4c83-b28f-987ecfa52556",
   "metadata": {},
   "source": [
    "##### write a program to count the number of words in a given text"
   ]
  },
  {
   "cell_type": "code",
   "execution_count": 17,
   "id": "4aca47c8-76e9-458c-b2ed-4f3ec4880764",
   "metadata": {},
   "outputs": [
    {
     "name": "stdin",
     "output_type": "stream",
     "text": [
      "Enter a sentence:  hi hi hello hi hello\n"
     ]
    },
    {
     "name": "stdout",
     "output_type": "stream",
     "text": [
      "Word frequencies:\n",
      "hi: 3\n",
      "hello: 2\n"
     ]
    }
   ],
   "source": [
    "def word_count(str):\n",
    " counts = dict()\n",
    " words = str.split()\n",
    " for word in words:\n",
    "        if word in counts:\n",
    "            counts[word] += 1\n",
    "        else:\n",
    "            counts[word] = 1\n",
    " return counts\n",
    "user_input = input(\"Enter a sentence: \")\n",
    "word_frequencies = word_count(user_input)\n",
    "print(\"Word frequencies:\")\n",
    "for word, count in word_frequencies.items():\n",
    "    print(f\"{word}: {count}\")"
   ]
  },
  {
   "cell_type": "markdown",
   "id": "11cd0ee1-66d9-4299-b098-0c73b75b591f",
   "metadata": {},
   "source": [
    "## Exercise 5: Check for Palindrome"
   ]
  },
  {
   "cell_type": "markdown",
   "id": "ca0a402d-2c66-496e-a955-fad30b1363bd",
   "metadata": {},
   "source": [
    "##### Write a Pythonfunction called is palindrome that takes a string as input and returns True if the string is a palindrome and False otherwise.A palindrome is a word, phrase, number or other sequences of characters that reads the same forward and backward, ignoring spaces, punctuation and capitalization."
   ]
  },
  {
   "cell_type": "code",
   "execution_count": 21,
   "id": "22d275e2-1da9-478b-a995-256254f0c255",
   "metadata": {},
   "outputs": [
    {
     "name": "stdin",
     "output_type": "stream",
     "text": [
      "Enter string:  \"Swathi\"\n"
     ]
    },
    {
     "name": "stdout",
     "output_type": "stream",
     "text": [
      "The string is not a palindrome.\n"
     ]
    }
   ],
   "source": [
    "def isPalindrome(string): \n",
    "    if string == string[::-1]: \n",
    "        return \"The string is a palindrome.\" \n",
    "    else: \n",
    "        return \"The string is not a palindrome.\"\n",
    "\n",
    "string = input(\"Enter string: \") \n",
    "\n",
    "print(isPalindrome(string))"
   ]
  },
  {
   "cell_type": "code",
   "execution_count": null,
   "id": "47d3b805-830a-402d-b035-7ed7af24af39",
   "metadata": {},
   "outputs": [],
   "source": []
  }
 ],
 "metadata": {
  "kernelspec": {
   "display_name": "Python [conda env:base] *",
   "language": "python",
   "name": "conda-base-py"
  },
  "language_info": {
   "codemirror_mode": {
    "name": "ipython",
    "version": 3
   },
   "file_extension": ".py",
   "mimetype": "text/x-python",
   "name": "python",
   "nbconvert_exporter": "python",
   "pygments_lexer": "ipython3",
   "version": "3.12.7"
  }
 },
 "nbformat": 4,
 "nbformat_minor": 5
}
